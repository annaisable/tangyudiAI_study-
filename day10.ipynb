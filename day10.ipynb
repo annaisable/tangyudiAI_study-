{
 "cells": [
  {
   "cell_type": "markdown",
   "metadata": {},
   "source": [
    "## 函数"
   ]
  },
  {
   "cell_type": "code",
   "execution_count": 50,
   "metadata": {},
   "outputs": [
    {
     "data": {
      "text/plain": [
       "30"
      ]
     },
     "execution_count": 50,
     "metadata": {},
     "output_type": "execute_result"
    }
   ],
   "source": [
    "a = 10\n",
    "b = 20\n",
    "a+b"
   ]
  },
  {
   "cell_type": "code",
   "execution_count": 51,
   "metadata": {},
   "outputs": [],
   "source": [
    "def print_value():      # function definition\n",
    "    print('a = ',a)      \n",
    "    print('b = ',b)\n",
    "    print('a+b = ',a+b)"
   ]
  },
  {
   "cell_type": "code",
   "execution_count": 52,
   "metadata": {},
   "outputs": [
    {
     "name": "stdout",
     "output_type": "stream",
     "text": [
      "a =  10\n",
      "b =  20\n",
      "a+b =  30\n"
     ]
    }
   ],
   "source": [
    "print_value()       # function call"
   ]
  },
  {
   "cell_type": "code",
   "execution_count": 53,
   "metadata": {},
   "outputs": [
    {
     "data": {
      "text/plain": [
       "8"
      ]
     },
     "execution_count": 53,
     "metadata": {},
     "output_type": "execute_result"
    }
   ],
   "source": [
    "def add_ab(a,b):\n",
    "    return (a+b)\n",
    "tang = add_ab(3,5)\n",
    "tang"
   ]
  },
  {
   "cell_type": "code",
   "execution_count": 54,
   "metadata": {},
   "outputs": [
    {
     "data": {
      "text/plain": [
       "3"
      ]
     },
     "execution_count": 54,
     "metadata": {},
     "output_type": "execute_result"
    }
   ],
   "source": [
    "tang = add_ab(1,2)\n",
    "tang"
   ]
  },
  {
   "cell_type": "code",
   "execution_count": 87,
   "metadata": {},
   "outputs": [
    {
     "name": "stdout",
     "output_type": "stream",
     "text": [
      "33 54\n"
     ]
    }
   ],
   "source": [
    "def add_number(a,*args):                        # *args是一个元组\n",
    "    b = 0\n",
    "    for i in args:\n",
    "        a += i\n",
    "        b += a\n",
    "    return a,b\n",
    "a,b = add_number(10,11,12)           \n",
    "print(a,b)"
   ]
  },
  {
   "cell_type": "code",
   "execution_count": 79,
   "metadata": {},
   "outputs": [
    {
     "name": "stdout",
     "output_type": "stream",
     "text": [
      "x 2\n",
      "y 3\n"
     ]
    }
   ],
   "source": [
    "def add_number2(a,**kwargs):    # **kwargs是一个字典\n",
    "    for arg,value in kwargs.items():   # items()方法返回一个包含所有字典项的列表\n",
    "        print(arg,value)\n",
    "add_number2(1,x=2,y=3)"
   ]
  }
 ],
 "metadata": {
  "kernelspec": {
   "display_name": "Python 3.10.6 64-bit",
   "language": "python",
   "name": "python3"
  },
  "language_info": {
   "codemirror_mode": {
    "name": "ipython",
    "version": 3
   },
   "file_extension": ".py",
   "mimetype": "text/x-python",
   "name": "python",
   "nbconvert_exporter": "python",
   "pygments_lexer": "ipython3",
   "version": "3.10.6"
  },
  "orig_nbformat": 4,
  "vscode": {
   "interpreter": {
    "hash": "59728815bf0c489c485d98fe72d74c8c07aa2b020de45019fe7e358db338b39d"
   }
  }
 },
 "nbformat": 4,
 "nbformat_minor": 2
}
