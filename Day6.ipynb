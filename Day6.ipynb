{
 "cells": [
  {
   "cell_type": "code",
   "execution_count": 11,
   "id": "49706684",
   "metadata": {},
   "outputs": [
    {
     "name": "stdout",
     "output_type": "stream",
     "text": [
      "Overwriting tang.py\n"
     ]
    }
   ],
   "source": [
    "%%writefile tang.py\n",
    "\n",
    "tang_V = 10\n",
    "def tang_add(tang_list):\n",
    "    tang_sum = 0\n",
    "    for i in range(len(tang_list)):\n",
    "        tang_sum += tang_list[i]\n",
    "    return tang_sum\n",
    "tang_list = [1,2,3,4,5]\n",
    "print(tang_add(tang_list))"
   ]
  },
  {
   "cell_type": "code",
   "execution_count": 12,
   "id": "2afae476",
   "metadata": {},
   "outputs": [
    {
     "name": "stdout",
     "output_type": "stream",
     "text": [
      "15\n"
     ]
    }
   ],
   "source": [
    "%run tang.py"
   ]
  },
  {
   "cell_type": "code",
   "execution_count": 13,
   "id": "ef640bcc",
   "metadata": {},
   "outputs": [
    {
     "name": "stdout",
     "output_type": "stream",
     "text": [
      "15\n"
     ]
    }
   ],
   "source": [
    "import tang"
   ]
  },
  {
   "cell_type": "code",
   "execution_count": 14,
   "id": "a047ed1e",
   "metadata": {},
   "outputs": [],
   "source": [
    "import tang"
   ]
  },
  {
   "cell_type": "code",
   "execution_count": 15,
   "id": "07f9a322",
   "metadata": {},
   "outputs": [
    {
     "data": {
      "text/plain": [
       "10"
      ]
     },
     "execution_count": 15,
     "metadata": {},
     "output_type": "execute_result"
    }
   ],
   "source": [
    "tang.tang_V"
   ]
  },
  {
   "cell_type": "code",
   "execution_count": 16,
   "id": "12dc004b",
   "metadata": {},
   "outputs": [],
   "source": [
    "import tang as tg"
   ]
  },
  {
   "cell_type": "code",
   "execution_count": 30,
   "id": "c0130627",
   "metadata": {},
   "outputs": [
    {
     "data": {
      "text/plain": [
       "2467"
      ]
     },
     "execution_count": 30,
     "metadata": {},
     "output_type": "execute_result"
    }
   ],
   "source": [
    "tang_list = [122,111,2234]\n",
    "tg.tang_add(tang_list)"
   ]
  },
  {
   "cell_type": "code",
   "execution_count": 29,
   "id": "fda2369c",
   "metadata": {},
   "outputs": [
    {
     "data": {
      "text/plain": [
       "100"
      ]
     },
     "execution_count": 29,
     "metadata": {},
     "output_type": "execute_result"
    }
   ],
   "source": [
    "tang_V = 100\n",
    "tang_V"
   ]
  },
  {
   "cell_type": "code",
   "execution_count": 31,
   "id": "a4f678e0",
   "metadata": {},
   "outputs": [],
   "source": [
    "from tang import tang_V,tang_add\n"
   ]
  },
  {
   "cell_type": "code",
   "execution_count": 32,
   "id": "be396810",
   "metadata": {},
   "outputs": [
    {
     "data": {
      "text/plain": [
       "10"
      ]
     },
     "execution_count": 32,
     "metadata": {},
     "output_type": "execute_result"
    }
   ],
   "source": [
    "tang_V"
   ]
  },
  {
   "cell_type": "code",
   "execution_count": 34,
   "id": "160713a7",
   "metadata": {},
   "outputs": [
    {
     "data": {
      "text/plain": [
       "2467"
      ]
     },
     "execution_count": 34,
     "metadata": {},
     "output_type": "execute_result"
    }
   ],
   "source": [
    "tang_add(tang_list)"
   ]
  },
  {
   "cell_type": "code",
   "execution_count": 35,
   "id": "7a899153",
   "metadata": {},
   "outputs": [
    {
     "data": {
      "text/plain": [
       "10"
      ]
     },
     "execution_count": 35,
     "metadata": {},
     "output_type": "execute_result"
    }
   ],
   "source": [
    "from tang import *\n",
    "tang_V"
   ]
  },
  {
   "cell_type": "code",
   "execution_count": 37,
   "id": "8ba7d255",
   "metadata": {},
   "outputs": [],
   "source": [
    "import os\n",
    "#  os.remove('tang.py')"
   ]
  },
  {
   "cell_type": "code",
   "execution_count": null,
   "id": "6c5e98a1",
   "metadata": {},
   "outputs": [],
   "source": []
  }
 ],
 "metadata": {
  "kernelspec": {
   "display_name": "Python 3 (ipykernel)",
   "language": "python",
   "name": "python3"
  },
  "language_info": {
   "codemirror_mode": {
    "name": "ipython",
    "version": 3
   },
   "file_extension": ".py",
   "mimetype": "text/x-python",
   "name": "python",
   "nbconvert_exporter": "python",
   "pygments_lexer": "ipython3",
   "version": "3.9.12"
  }
 },
 "nbformat": 4,
 "nbformat_minor": 5
}
