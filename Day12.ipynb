{
 "cells": [
  {
   "cell_type": "markdown",
   "metadata": {},
   "source": [
    "## 文件操作"
   ]
  },
  {
   "cell_type": "code",
   "execution_count": 63,
   "metadata": {},
   "outputs": [
    {
     "name": "stdout",
     "output_type": "stream",
     "text": [
      "Overwriting tang.txt\n"
     ]
    }
   ],
   "source": [
    "%%writefile tang.txt\n",
    "hello python\n",
    "tang yu di\n",
    "jin tian tian qi bu cuo"
   ]
  },
  {
   "cell_type": "code",
   "execution_count": 64,
   "metadata": {},
   "outputs": [],
   "source": [
    "txt = open('./tang.txt') # 打开文件 ./是路径"
   ]
  },
  {
   "cell_type": "code",
   "execution_count": 65,
   "metadata": {},
   "outputs": [
    {
     "name": "stdout",
     "output_type": "stream",
     "text": [
      "hello python\n",
      "tang yu di\n",
      "jin tian tian qi bu cuo\n",
      "\n"
     ]
    }
   ],
   "source": [
    "tex_read = txt.read() # 读取文件\n",
    "print(tex_read)"
   ]
  },
  {
   "cell_type": "code",
   "execution_count": 66,
   "metadata": {},
   "outputs": [
    {
     "name": "stdout",
     "output_type": "stream",
     "text": [
      "<class 'list'>\n",
      "[]\n"
     ]
    }
   ],
   "source": [
    "tex_read = txt.read()\n",
    "lines = txt.readlines() # 读取文件的每一行\n",
    "print(type(lines))\n",
    "print (lines)"
   ]
  },
  {
   "cell_type": "code",
   "execution_count": 67,
   "metadata": {},
   "outputs": [],
   "source": [
    "for line in lines:\n",
    "    print('cul_line:', line)  "
   ]
  },
  {
   "cell_type": "code",
   "execution_count": 68,
   "metadata": {},
   "outputs": [],
   "source": [
    "txt.close() # 关闭文件"
   ]
  },
  {
   "cell_type": "code",
   "execution_count": 69,
   "metadata": {},
   "outputs": [],
   "source": [
    "txt = open('tang_write.txt','w')\n",
    "txt.write('hello python')\n",
    "txt.close()"
   ]
  },
  {
   "cell_type": "code",
   "execution_count": 70,
   "metadata": {},
   "outputs": [],
   "source": [
    "#  \\n为换行符"
   ]
  },
  {
   "cell_type": "code",
   "execution_count": 71,
   "metadata": {},
   "outputs": [
    {
     "data": {
      "text/plain": [
       "4"
      ]
     },
     "execution_count": 71,
     "metadata": {},
     "output_type": "execute_result"
    }
   ],
   "source": [
    "txt = open('tang_write.txt','w')\n",
    "#  'w'为写入模式 会覆盖之前的内容 'r'为读取模式 'a'为追加模式 'r+'为读写模式\n",
    "txt.write('123\\n')\n",
    "txt.write('456\\n')\n",
    "txt.write('789\\n')"
   ]
  },
  {
   "cell_type": "code",
   "execution_count": 72,
   "metadata": {},
   "outputs": [],
   "source": [
    "txt = open('tang_write.txt','a')  \n",
    "#  'w'为写入模式 会覆盖之前的内容 'r'为读取模式 'a'为追加模式 'r+'为读写模式\n",
    "txt.write('nihao\\n')\n",
    "txt.write('python\\n')\n",
    "txt.write('hello\\n')\n",
    "txt.close()"
   ]
  },
  {
   "cell_type": "code",
   "execution_count": 73,
   "metadata": {},
   "outputs": [],
   "source": [
    "world = open('world.doc','w')\n",
    "world.write('hello world')\n",
    "world.write('hello world\\n')\n",
    "world.close()\n"
   ]
  },
  {
   "cell_type": "code",
   "execution_count": 74,
   "metadata": {},
   "outputs": [
    {
     "name": "stdout",
     "output_type": "stream",
     "text": [
      "0\n",
      "1\n",
      "2\n",
      "3\n",
      "4\n",
      "\n"
     ]
    }
   ],
   "source": [
    "txt = open('tang_write.txt','w')\n",
    "for i in range(5):\n",
    "    txt.write(str(i)+'\\n')\n",
    "txt.close()\n",
    "txt2 = open('tang_write.txt','r')\n",
    "print (txt2.read())"
   ]
  },
  {
   "cell_type": "code",
   "execution_count": 75,
   "metadata": {},
   "outputs": [],
   "source": [
    "with open('tang_write.txt','a') as f:\n",
    "    f.write('你好')"
   ]
  },
  {
   "cell_type": "code",
   "execution_count": null,
   "metadata": {},
   "outputs": [],
   "source": []
  }
 ],
 "metadata": {
  "kernelspec": {
   "display_name": "Python 3.10.6 64-bit",
   "language": "python",
   "name": "python3"
  },
  "language_info": {
   "codemirror_mode": {
    "name": "ipython",
    "version": 3
   },
   "file_extension": ".py",
   "mimetype": "text/x-python",
   "name": "python",
   "nbconvert_exporter": "python",
   "pygments_lexer": "ipython3",
   "version": "3.10.6"
  },
  "orig_nbformat": 4,
  "vscode": {
   "interpreter": {
    "hash": "59728815bf0c489c485d98fe72d74c8c07aa2b020de45019fe7e358db338b39d"
   }
  }
 },
 "nbformat": 4,
 "nbformat_minor": 2
}
